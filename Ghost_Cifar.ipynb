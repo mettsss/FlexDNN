{
 "cells": [
  {
   "cell_type": "code",
   "execution_count": 1,
   "metadata": {},
   "outputs": [
    {
     "name": "stdout",
     "output_type": "stream",
     "text": [
      "cuda:0\n"
     ]
    }
   ],
   "source": [
    "# from ghostnet.ghost_net import ghost_net\n",
    "# from keras.datasets import mnist\n",
    "import pandas as pd\n",
    "import numpy as np\n",
    "import torch\n",
    "from torch.nn.utils.rnn import pack_padded_sequence\n",
    "from torch.utils.data import Dataset\n",
    "from torch.utils.data import DataLoader\n",
    "from torch import nn,optim\n",
    "from torch.autograd import Variable\n",
    "import torch.nn.functional as F\n",
    "import matplotlib.pyplot as plt\n",
    "import SimpleITK as sitk\n",
    "import os\n",
    "from VGG import *\n",
    "# 检验GPU是否可用\n",
    "device = torch.device(\"cuda:0\" if torch.cuda.is_available() else \"cpu\")\n",
    "print(device)"
   ]
  },
  {
   "cell_type": "code",
   "execution_count": 2,
   "metadata": {},
   "outputs": [
    {
     "name": "stdout",
     "output_type": "stream",
     "text": [
      "Files already downloaded and verified\n",
      "Files already downloaded and verified\n"
     ]
    }
   ],
   "source": [
    "import torchvision\n",
    "import torchvision.transforms as transforms\n",
    "transform = transforms.Compose(\n",
    "    [transforms.ToTensor(),\n",
    "     transforms.Normalize((0.5, 0.5, 0.5), (0.5, 0.5, 0.5))])\n",
    "# 加载训练集合(Train)\n",
    "train_dataset = torchvision.datasets.CIFAR10(root='./data',\n",
    "                                           train=True,\n",
    "                                           transform=transform,\n",
    "                                           download=True)\n",
    "# 加载测试集合(Test)\n",
    "test_dataset = torchvision.datasets.CIFAR10(root='./data',\n",
    "                                          train=False,\n",
    "                                          transform=transform,\n",
    "                                          download=True)"
   ]
  },
  {
   "cell_type": "code",
   "execution_count": 3,
   "metadata": {},
   "outputs": [],
   "source": [
    "batch_size = 10\n",
    "# 根据数据集定义数据加载器\n",
    "train_loader = torch.utils.data.DataLoader(dataset=train_dataset,\n",
    "                                           batch_size=batch_size,\n",
    "                                           shuffle=True)\n",
    "test_loader = torch.utils.data.DataLoader(dataset=test_dataset,\n",
    "                                          batch_size=batch_size,\n",
    "                                          shuffle=False)"
   ]
  },
  {
   "cell_type": "code",
   "execution_count": 6,
   "metadata": {},
   "outputs": [],
   "source": [
    "from ghostnet.ghost_net import ghost_net\n",
    "net = ghost_net(width_mult=1.0,num_classes=10).to(device)\n",
    "# 定义损失函数和优化器\n",
    "criterion = nn.CrossEntropyLoss()\n",
    "optimizer = torch.optim.SGD(net.parameters(), lr=0.001, momentum=0.9)"
   ]
  },
  {
   "cell_type": "code",
   "execution_count": 5,
   "metadata": {},
   "outputs": [
    {
     "data": {
      "text/plain": [
       "torch.Size([10, 10])"
      ]
     },
     "execution_count": 5,
     "metadata": {},
     "output_type": "execute_result"
    }
   ],
   "source": [
    "examples = iter(test_loader)\n",
    "example_data, _ = examples.next()\n",
    "net(example_data.to(device))[4].shape"
   ]
  },
  {
   "cell_type": "code",
   "execution_count": 1,
   "metadata": {},
   "outputs": [],
   "source": [
    "num_epochs = 40\n",
    "n_total_steps = len(train_loader)\n",
    "LossList = [] # 记录每一个epoch的loss\n",
    "AccuryList = [] # 每一个epoch的accury\n",
    "for epoch in range(num_epochs):\n",
    "    # -------\n",
    "    # 开始训练\n",
    "    # -------\n",
    "    net.train() # 切换为训练模型\n",
    "    totalLoss = 0\n",
    "    for i, (images, labels) in enumerate(train_loader):\n",
    "        images = images.to(device) # 图片大小转换\n",
    "        labels = labels.to(device)\n",
    "        # 正向传播以及损失的求取\n",
    "        outputs = net(images)\n",
    "#         labels = labels.squeeze(1)\n",
    "        optimizer.zero_grad() # 梯度清空\n",
    "        loss = criterion(outputs, labels)\n",
    "        loss.backward(retain_graph=True)\n",
    "        totalLoss = totalLoss + loss.item()\n",
    "#         print(loss)\n",
    "        # 反向传播\n",
    "         # 反向传播\n",
    "        optimizer.step() # 权重更新\n",
    "        if (i+1) % 1000 == 0:\n",
    "            print('Epoch [{}/{}], Step [{}/{}], Loss: {:.4f}'.format(epoch+1, num_epochs, i+1, n_total_steps, totalLoss/(i+1)))\n",
    "    LossList.append(totalLoss/(i+1))\n",
    "    # ---------\n",
    "    # 开始测试\n",
    "    # ---------\n",
    "    net.eval()\n",
    "    with torch.no_grad():\n",
    "        correct = 0\n",
    "        total = 0\n",
    "        for images, labels in test_loader:\n",
    "            images = images.to(device)\n",
    "            labels = labels.to(device)\n",
    "            outputs = net(images)\n",
    "            _, predicted = torch.max(outputs.data, 1) # 预测的结果\n",
    "            total += labels.size(0)\n",
    "            correct += (predicted == labels).sum().item()\n",
    "        print(correct)\n",
    "        acc = 100.0 * correct / total # 在测试集上总的准确率\n",
    "        AccuryList.append(acc)\n",
    "        print('Accuracy of the network on the {} test images: {} %'.format(total, acc))\n",
    "print(\"模型训练完成\")"
   ]
  },
  {
   "cell_type": "code",
   "execution_count": null,
   "metadata": {},
   "outputs": [],
   "source": []
  },
  {
   "cell_type": "code",
   "execution_count": null,
   "metadata": {},
   "outputs": [],
   "source": []
  }
 ],
 "metadata": {
  "kernelspec": {
   "display_name": "Python 3",
   "language": "python",
   "name": "python3"
  },
  "language_info": {
   "codemirror_mode": {
    "name": "ipython",
    "version": 3
   },
   "file_extension": ".py",
   "mimetype": "text/x-python",
   "name": "python",
   "nbconvert_exporter": "python",
   "pygments_lexer": "ipython3",
   "version": "3.8.3"
  }
 },
 "nbformat": 4,
 "nbformat_minor": 4
}
